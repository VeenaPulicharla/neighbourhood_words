{
 "cells": [
  {
   "cell_type": "markdown",
   "metadata": {},
   "source": [
    "## Finding neighbourhood words for a given topic word"
   ]
  },
  {
   "cell_type": "code",
   "execution_count": 3,
   "metadata": {},
   "outputs": [],
   "source": [
    "processed_docs = [['dog','eat','sound','pedigree','cat','technology','run','rat','tech','bio','conflict','neighbour','k-nearestneighbourhood','egg','search','computers','bite','data','science' 'bark', 'shout'],\n",
    "                  ['run','sound','eat','cat', 'meaww','data_science' ,'walk', 'milk', 'drink']]\n",
    "tops = [['dog','cat','egg'],['cat'],['milk']] # Topic words\n",
    "\n",
    "neighborhood_dict ={}\n",
    "\n",
    "# neighbourhood method\n",
    "# returns neighbourhood words for a topic word \n",
    "def find_neighbourhood(topic_word, token_list,window_size):\n",
    "    nbd = []\n",
    "    for tokens in token_list:\n",
    "        try:\n",
    "            topic_index = tokens.index(topic_word)\n",
    "            front_index = topic_index - 1\n",
    "            back_index = topic_index + 1\n",
    "            if (topic_index >= 0 ):\n",
    "                front_index = topic_index - 1\n",
    "                for i in xrange(4):\n",
    "                    if (front_index >= 0):\n",
    "                        nbd.append(tokens[front_index])\n",
    "                        front_index = front_index - 1\n",
    "                for j in xrange(4):\n",
    "                    if (back_index < len(tokens)):\n",
    "                        nbd.append(tokens[back_index])\n",
    "                        back_index = back_index + 1\n",
    "        except ValueError:\n",
    "            pass\n",
    "        topicword = topic_word\n",
    "        neighborhood_dict = {topicword: nbd}\n",
    "\n",
    "    return neighborhood_dict\n",
    "\n",
    "\n",
    "nbd_dict = []\n",
    "topics = tops[0] \n",
    "neighborhood_dicts = {} # dictionary to store the concept of the topic and their neighbourhood words\n",
    "window_size = 15 # window size can be taken as your wish\n",
    "for words in topics:\n",
    "    neighborhood_dicts.update(find_neighbourhood(words, processed_docs,window_size)) "
   ]
  },
  {
   "cell_type": "code",
   "execution_count": 4,
   "metadata": {},
   "outputs": [
    {
     "data": {
      "text/plain": [
       "{'cat': ['pedigree',\n",
       "  'sound',\n",
       "  'eat',\n",
       "  'dog',\n",
       "  'technology',\n",
       "  'run',\n",
       "  'rat',\n",
       "  'tech',\n",
       "  'eat',\n",
       "  'sound',\n",
       "  'run',\n",
       "  'meaww',\n",
       "  'data_science',\n",
       "  'walk',\n",
       "  'milk'],\n",
       " 'dog': ['eat', 'sound', 'pedigree', 'cat'],\n",
       " 'egg': ['k-nearestneighbourhood',\n",
       "  'neighbour',\n",
       "  'conflict',\n",
       "  'bio',\n",
       "  'search',\n",
       "  'computers',\n",
       "  'bite',\n",
       "  'data']}"
      ]
     },
     "execution_count": 4,
     "metadata": {},
     "output_type": "execute_result"
    }
   ],
   "source": [
    "neighborhood_dicts"
   ]
  },
  {
   "cell_type": "code",
   "execution_count": null,
   "metadata": {},
   "outputs": [],
   "source": []
  }
 ],
 "metadata": {
  "kernelspec": {
   "display_name": "Python 2",
   "language": "python",
   "name": "python2"
  },
  "language_info": {
   "codemirror_mode": {
    "name": "ipython",
    "version": 2
   },
   "file_extension": ".py",
   "mimetype": "text/x-python",
   "name": "python",
   "nbconvert_exporter": "python",
   "pygments_lexer": "ipython2",
   "version": "2.7.14"
  }
 },
 "nbformat": 4,
 "nbformat_minor": 2
}
